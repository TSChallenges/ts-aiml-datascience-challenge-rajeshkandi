{
 "cells": [
  {
   "cell_type": "code",
   "execution_count": 30,
   "id": "8bbc10b6",
   "metadata": {
    "scrolled": true
   },
   "outputs": [
    {
     "name": "stdout",
     "output_type": "stream",
     "text": [
      "Missing Values:\n",
      " customer_id:0\n",
      "credit_score:0\n",
      "country:0\n",
      "gender:0\n",
      "age:0\n",
      "tenure:0\n",
      "balance:0\n",
      "products_number:0\n",
      "credit_card:0\n",
      "active_member:0\n",
      "estimated_salary:0\n",
      "churn:0\n",
      "\n",
      "Summary Statistics:\n",
      "         customer_id  credit_score           age        tenure        balance  \\\n",
      "count  1.000000e+04  10000.000000  10000.000000  10000.000000   10000.000000   \n",
      "mean   1.569094e+07    650.528800     38.921800      5.012800   76485.889288   \n",
      "std    7.193619e+04     96.653299     10.487806      2.892174   62397.405202   \n",
      "min    1.556570e+07    350.000000     18.000000      0.000000       0.000000   \n",
      "25%    1.562853e+07    584.000000     32.000000      3.000000       0.000000   \n",
      "50%    1.569074e+07    652.000000     37.000000      5.000000   97198.540000   \n",
      "75%    1.575323e+07    718.000000     44.000000      7.000000  127644.240000   \n",
      "max    1.581569e+07    850.000000     92.000000     10.000000  250898.090000   \n",
      "\n",
      "       products_number  credit_card  active_member  estimated_salary  \\\n",
      "count     10000.000000  10000.00000   10000.000000      10000.000000   \n",
      "mean          1.530200      0.70550       0.515100     100090.239881   \n",
      "std           0.581654      0.45584       0.499797      57510.492818   \n",
      "min           1.000000      0.00000       0.000000         11.580000   \n",
      "25%           1.000000      0.00000       0.000000      51002.110000   \n",
      "50%           1.000000      1.00000       1.000000     100193.915000   \n",
      "75%           2.000000      1.00000       1.000000     149388.247500   \n",
      "max           4.000000      1.00000       1.000000     199992.480000   \n",
      "\n",
      "              churn  \n",
      "count  10000.000000  \n",
      "mean       0.203700  \n",
      "std        0.402769  \n",
      "min        0.000000  \n",
      "25%        0.000000  \n",
      "50%        0.000000  \n",
      "75%        0.000000  \n",
      "max        1.000000  \n"
     ]
    },
    {
     "data": {
      "text/plain": [
       "<Figure size 640x480 with 0 Axes>"
      ]
     },
     "metadata": {},
     "output_type": "display_data"
    }
   ],
   "source": [
    "import pandas as pd\n",
    "import seaborn as sns\n",
    "import numpy as np\n",
    "import matplotlib.pyplot as plt         #  importing some basic libraries to work with the dataset and for visualization\n",
    "\n",
    "\n",
    "\n",
    "def load_data(filepath):\n",
    "    \"\"\"\n",
    "    Load the dataset into a pandas DataFrame.\n",
    "    \"\"\"\n",
    "    df = pd.read_csv(filepath)\n",
    "\n",
    "    return df\n",
    "\n",
    "def check_missing_values(df):\n",
    "    \"\"\"\n",
    "    Check for missing values in the DataFrame.\n",
    "    \"\"\"\n",
    "    ColumnNameNullcount=''\n",
    "    for n in range(len(df.columns)): \n",
    "        ColumnNameNullcount=ColumnNameNullcount+(str((df.columns)[n])+str(\":\" )+str(df[(df.columns)[n]].isnull().sum())+\"\\n\")\n",
    "    missing =  ColumnNameNullcount #for n=0 in len(df.columns): (df.columns)[n], df[(df.columns)[n]].isnull().sum() #todo  #(df.columns)[0] #df['customer_id'].isnull().sum()\n",
    "    print(\"Missing Values:\\n\", missing)\n",
    "\n",
    "def generate_summary_statistics(df):\n",
    "    \"\"\"\n",
    "    Generate summary statistics for key variables.\n",
    "    \"\"\"\n",
    "    summary = df.describe() #todo hint: pd.DataFrame().describe()\n",
    "    print(\"Summary Statistics:\\n\", summary)\n",
    "\n",
    "def visualize_distributions(df):\n",
    "    \"\"\"\n",
    "    Visualize distributions of age, balance, credit_score, and estimated_salary.\n",
    "    \n",
    "    Hint: use sns.histplot() \n",
    "    \"\"\"\n",
    "    #todo\n",
    "    #assert 'age' in df.columns, \"DataFrame should include 'Age' column\"\n",
    "    #assert 'balance' in df.columns, \"DataFrame should include 'Balance' column\"\n",
    "    #assert 'credit_card' in df.columns, \"DataFrame should include 'credit_card' column\"\n",
    "    #assert 'estimated_salary' in df.columns, \"DataFrame should include 'estimated_salary' column\"\n",
    "    #sns.histplot(df)\n",
    "    plt.tight_layout()\n",
    "    plt.show()\n",
    "\n",
    "def main():\n",
    "    # Load data\n",
    "    df = load_data(\"/workspaces/ts-aiml-datascience-challenge-rajeshkandi/data/bank_churn.csv\")\n",
    "\n",
    "    # Check for missing values\n",
    "    check_missing_values(df)\n",
    "    \n",
    "    # Generate summary statistics\n",
    "    generate_summary_statistics(df)\n",
    "    \n",
    "    # Visualize distributions\n",
    "    visualize_distributions(df)\n",
    "\n",
    "if __name__ == \"__main__\":\n",
    "    main()\n"
   ]
  }
 ],
 "metadata": {
  "kernelspec": {
   "display_name": "Python 3",
   "language": "python",
   "name": "python3"
  },
  "language_info": {
   "codemirror_mode": {
    "name": "ipython",
    "version": 3
   },
   "file_extension": ".py",
   "mimetype": "text/x-python",
   "name": "python",
   "nbconvert_exporter": "python",
   "pygments_lexer": "ipython3",
   "version": "3.12.1"
  }
 },
 "nbformat": 4,
 "nbformat_minor": 5
}
